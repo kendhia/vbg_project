{
 "cells": [
  {
   "cell_type": "markdown",
   "metadata": {},
   "source": [
    "# Arkaplan ve Motivasyon:"
   ]
  },
  {
   "cell_type": "markdown",
   "metadata": {},
   "source": [
    "As two international students in Turkey. We have traveling for years inside and outside of Turkey. But, this the topic of using aircrafts is still always scaring our families. Thus we decided to work on this subject and get different insights from the history of aircrafts and their problems."
   ]
  },
  {
   "cell_type": "markdown",
   "metadata": {},
   "source": [
    "# Projenin amaçları: "
   ]
  },
  {
   "cell_type": "markdown",
   "metadata": {},
   "source": [
    "1) Predict the reason of aircraft crush based on inputs of features.\n",
    "\n",
    "2) Get different insights about the correlations before the differnet inputs provided.\n"
   ]
  },
  {
   "cell_type": "markdown",
   "metadata": {},
   "source": [
    "# Veri"
   ]
  },
  {
   "cell_type": "markdown",
   "metadata": {},
   "source": [
    "we used the dataset provided on kaggle https://www.kaggle.com/miquar/explore-flights-csv-airports-csv-airlines-csv"
   ]
  },
  {
   "cell_type": "code",
   "execution_count": null,
   "metadata": {},
   "outputs": [],
   "source": [
    "import pandas as pd\n",
    "import numpy as np\n",
    "\n",
    "flights_df = pd.read_csv(\"flights_reduced.csv\", index_col=0)"
   ]
  },
  {
   "cell_type": "markdown",
   "metadata": {},
   "source": [
    "# Veri işleme:"
   ]
  },
  {
   "cell_type": "markdown",
   "metadata": {},
   "source": [
    "After cutting the data, (the size of it was too much big), we ignored the columns (features) we will not use in our model, in addition to that , we added a new column \"Reason\", that will be the main class of our model."
   ]
  },
  {
   "cell_type": "code",
   "execution_count": 1,
   "metadata": {},
   "outputs": [],
   "source": [
    "\n",
    "\n",
    "# Adding  the new column reason, that will be the main attribute in our model \n",
    "flights_df[\"Reason\"] = None\n",
    "\n",
    "\n",
    "#removing the columns we won't use here\n",
    "flights_df = flights_df.drop(labels=[\"DAY\", \"AIRLINE\", \"FLIGHT_NUMBER\", \"ORIGIN_AIRPORT\", \"DESTINATION_AIRPORT\", \"DAY_OF_WEEK\", \"FLIGHT_NUMBER\", \"TAIL_NUMBER\", \"DESTINATION_AIRPORT\", \"SCHEDULED_DEPARTURE\"], axis=1)\n",
    "\n",
    "# We have three different Classes of reasons.\n",
    "reasons = [\"Airline\", \"Security\", \"Weather\", \"unknown\"]\n",
    "\n",
    "\n",
    "#The logic behind labeling the data \"aka reason\"\n",
    "taxt_out_mean = flights_df[\"TAXI_OUT\"].mean()\n",
    "taxt_in_mean = flights_df[\"TAXI_IN\"].mean()\n",
    "dep_time_mean = flights_df[\"DEPARTURE_TIME\"].mean()\n",
    "\n",
    "air_sys_delay_mean = flights_df[\"AIR_SYSTEM_DELAY\"].mean()\n",
    "sec_delay_mean = flights_df[\"SECURITY_DELAY\"].mean()\n",
    "late_aircraft_delay = flights_df[\"LATE_AIRCRAFT_DELAY\"].mean()\n",
    "\n",
    "weather_delay_mean = flights_df[\"WEATHER_DELAY\"].mean()\n",
    "\n",
    "for  index, row in  flights_df.iterrows():\n",
    "    if ((row[\"TAXI_OUT\"] > taxt_out_mean or row[\"TAXI_IN\"] > taxt_in_mean)  and row[\"DEPARTURE_TIME\"] > dep_time_mean):\n",
    "        row[\"Reason\"] = 0\n",
    "\n",
    "    if (row[\"AIR_SYSTEM_DELAY\"] > air_sys_delay_mean or row[\"SECURITY_DELAY\"] > sec_delay_mean or row[\"LATE_AIRCRAFT_DELAY\"] > late_aircraft_delay):\n",
    "        row[\"Reason\"] = 1\n",
    "\n",
    "    if (row[\"WEATHER_DELAY\"] > weather_delay_mean ):\n",
    "        row[\"Reason\"] = 2\n",
    "    \n",
    "    if row[\"Reason\"] == None:\n",
    "        row[\"Reason\"] = 3\n",
    "\n",
    "    flights_df.iloc[index] = row"
   ]
  },
  {
   "cell_type": "markdown",
   "metadata": {},
   "source": [
    "# Analiz metodolojisi:"
   ]
  },
  {
   "cell_type": "markdown",
   "metadata": {},
   "source": [
    "Our data contains many labels that contain continous numeric values. Thus, we decided to use the GaussianNB from Nayiv Bayes."
   ]
  },
  {
   "cell_type": "code",
   "execution_count": null,
   "metadata": {},
   "outputs": [],
   "source": [
    "from sklearn.model_selection import train_test_split\n",
    "from sklearn.naive_bayes import GaussianNB\n",
    "\n",
    "\n",
    "\n",
    "\n",
    "clf = GaussianNB()\n",
    "flights_df = flights_df.fillna(0)\n",
    "X_train, x_test, Y_train, y_test = train_test_split(df, df[\"Reason\"], test_size=0.1)\n",
    "model = clf.fit(X_train, Y_train)\n",
    "score = model.score(x_test, y_test)\n",
    "print(score)"
   ]
  }
 ],
 "metadata": {
  "kernelspec": {
   "display_name": "Python 3",
   "language": "python",
   "name": "python3"
  },
  "language_info": {
   "codemirror_mode": {
    "name": "ipython",
    "version": 3
   },
   "file_extension": ".py",
   "mimetype": "text/x-python",
   "name": "python",
   "nbconvert_exporter": "python",
   "pygments_lexer": "ipython3",
   "version": "3.7.2"
  }
 },
 "nbformat": 4,
 "nbformat_minor": 2
}
